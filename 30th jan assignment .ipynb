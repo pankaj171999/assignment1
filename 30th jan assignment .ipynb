{
 "cells": [
  {
   "cell_type": "code",
   "execution_count": 1,
   "id": "13802f71-3066-48e4-8b14-061c568f21f9",
   "metadata": {},
   "outputs": [
    {
     "name": "stdin",
     "output_type": "stream",
     "text": [
      "Enter your marks 91\n"
     ]
    },
    {
     "name": "stdout",
     "output_type": "stream",
     "text": [
      "Grade = A\n"
     ]
    }
   ],
   "source": [
    "#Q1\n",
    "marks=int(input(\"Enter your marks\"))\n",
    "if marks > 90:\n",
    "    print(\"Grade = A\")\n",
    "elif marks <= 90 and marks > 80:\n",
    "    print(\"Grade = B\")\n",
    "elif marks <=80 and marks >=60:\n",
    "    print(\"Grade = C\")\n",
    "else :\n",
    "    print(\"Grade = D\")\n",
    "    \n",
    "    "
   ]
  },
  {
   "cell_type": "code",
   "execution_count": 2,
   "id": "eea54d80-c0c7-4174-bcb7-11b6f76b0935",
   "metadata": {},
   "outputs": [
    {
     "name": "stdin",
     "output_type": "stream",
     "text": [
      "Enter your bike cost price 60000\n"
     ]
    },
    {
     "name": "stdout",
     "output_type": "stream",
     "text": [
      "you will pay 10% road tax \n"
     ]
    }
   ],
   "source": [
    "#Q2\n",
    "cost_price=int(input(\"Enter your bike cost price\"))\n",
    "if cost_price > 100000:\n",
    "      print(\"you will pay 15% road tax \" ) \n",
    "elif cost_price <= 100000 and cost_price >50000:\n",
    "     print(\"you will pay 10% road tax \" )\n",
    "else:   \n",
    "    print(\"you will pay 5% road tax\" )\n"
   ]
  },
  {
   "cell_type": "code",
   "execution_count": 3,
   "id": "7f49c5d0-04b3-49d8-be2b-44f9bcdd63be",
   "metadata": {},
   "outputs": [
    {
     "name": "stdin",
     "output_type": "stream",
     "text": [
      "Enter your city Jaipur\n"
     ]
    },
    {
     "name": "stdout",
     "output_type": "stream",
     "text": [
      "Jal Mahal\n"
     ]
    }
   ],
   "source": [
    "#Q3\n",
    "city=input(\"Enter your city\")\n",
    "if city== \"Delhi\":\n",
    "    print(\"Red Fort\")\n",
    "elif city== \"Agra\":\n",
    "    print(\"Taj Mahal\")\n",
    "elif city== \"Jaipur\":\n",
    "    print(\"Jal Mahal\")\n",
    "else :\n",
    "    print(\"you will enter wrong input\")"
   ]
  },
  {
   "cell_type": "code",
   "execution_count": 3,
   "id": "ce2eec6e-4814-4b43-bca1-a0c22cce4233",
   "metadata": {},
   "outputs": [
    {
     "ename": "IndentationError",
     "evalue": "unexpected indent (1134310394.py, line 6)",
     "output_type": "error",
     "traceback": [
      "\u001b[0;36m  Cell \u001b[0;32mIn[3], line 6\u001b[0;36m\u001b[0m\n\u001b[0;31m    if num <=10:\u001b[0m\n\u001b[0m    ^\u001b[0m\n\u001b[0;31mIndentationError\u001b[0m\u001b[0;31m:\u001b[0m unexpected indent\n"
     ]
    }
   ],
   "source": [
    "#Q4\n",
    "number=int(input(\"Enter a Number\"))\n",
    "count=1\n",
    "while number>0:\n",
    "     num = number/3\n",
    "        if num <=10:\n",
    "            print(count) \n",
    "            break\n",
    "        count=count+1\n",
    "        number=num\n",
    "\n",
    "           \n",
    "           "
   ]
  },
  {
   "cell_type": "code",
   "execution_count": 19,
   "id": "58391f16-4f6b-4c67-8106-5966c021c6ea",
   "metadata": {},
   "outputs": [
    {
     "name": "stdin",
     "output_type": "stream",
     "text": [
      "Enter the number of rows 4\n"
     ]
    },
    {
     "name": "stdout",
     "output_type": "stream",
     "text": [
      "1 \n",
      "1 2 \n",
      "1 2 3 \n",
      "1 2 3 4 \n"
     ]
    }
   ],
   "source": [
    "#Q5\n",
    "n=int(input(\"Enter the number of rows\"))\n",
    "for i in range(n):\n",
    "    for j in range(i+1):\n",
    "        print(j+1,end=\" \")\n",
    "    print()"
   ]
  },
  {
   "cell_type": "code",
   "execution_count": 20,
   "id": "d8eed261-1397-4596-9f0c-9f0d99dd0c31",
   "metadata": {},
   "outputs": [
    {
     "name": "stdin",
     "output_type": "stream",
     "text": [
      "Enter the number of rows 7\n"
     ]
    },
    {
     "name": "stdout",
     "output_type": "stream",
     "text": [
      "* \n",
      "* * \n",
      "* * * \n",
      "* * * * \n",
      "* * * * * \n",
      "* * * * * * \n",
      "* * * * * * * \n"
     ]
    }
   ],
   "source": [
    "#Q5\n",
    "n=int(input(\"Enter the number of rows\"))\n",
    "for i in range(n):\n",
    "    for j in range(i+1):\n",
    "        print(\"*\",end=\" \")\n",
    "    print()"
   ]
  },
  {
   "cell_type": "code",
   "execution_count": 23,
   "id": "00f8c19f-3cb3-4666-88bb-0db7a945e526",
   "metadata": {},
   "outputs": [
    {
     "name": "stdin",
     "output_type": "stream",
     "text": [
      "Enter the number of rows 6\n"
     ]
    },
    {
     "name": "stdout",
     "output_type": "stream",
     "text": [
      "1 \n",
      "2 1 \n",
      "3 2 1 \n",
      "4 3 2 1 \n",
      "5 4 3 2 1 \n",
      "6 5 4 3 2 1 \n"
     ]
    }
   ],
   "source": [
    "#Q5\n",
    "n=int(input(\"Enter the number of rows\"))\n",
    "for i in range(n):\n",
    "    for j in range(i,-1,-1):\n",
    "        print(j+1,end=\" \")\n",
    "    print()"
   ]
  },
  {
   "cell_type": "code",
   "execution_count": 24,
   "id": "c50c42e4-b96a-4f21-af1e-65f5dd78dada",
   "metadata": {},
   "outputs": [
    {
     "name": "stdout",
     "output_type": "stream",
     "text": [
      "pankaj\n",
      "pankaj\n",
      "pankaj\n",
      "pankaj\n",
      "pankaj\n"
     ]
    }
   ],
   "source": [
    "#Q6\n",
    "#Python While Loop is used to execute a block of statements repeatedly until a given condition is satisfied. \n",
    "#And when the condition becomes false, the line immediately after the loop in the program is executed.\n",
    "# example\n",
    "count=1\n",
    "while(count<=5):\n",
    "    print(\"pankaj\")\n",
    "    count=count+1\n"
   ]
  },
  {
   "cell_type": "code",
   "execution_count": 11,
   "id": "fd1d953a-e7d2-4906-a602-9cd982398836",
   "metadata": {},
   "outputs": [
    {
     "name": "stdout",
     "output_type": "stream",
     "text": [
      "10\n",
      "9\n",
      "8\n",
      "7\n",
      "6\n",
      "5\n",
      "4\n",
      "3\n",
      "2\n",
      "1\n"
     ]
    }
   ],
   "source": [
    "#Q7 \n",
    "i=10\n",
    "while i>=1:\n",
    "    print (i)\n",
    "    i=i-1"
   ]
  },
  {
   "cell_type": "code",
   "execution_count": 13,
   "id": "4328e80a-cb1d-44de-b615-f739feb028fe",
   "metadata": {},
   "outputs": [
    {
     "name": "stdout",
     "output_type": "stream",
     "text": [
      "10\n",
      "9\n",
      "8\n",
      "7\n",
      "6\n",
      "5\n",
      "4\n",
      "3\n",
      "2\n",
      "1\n"
     ]
    }
   ],
   "source": [
    "#Q8\n",
    "i=10\n",
    "while i>=1:\n",
    "      print(i)\n",
    "    i=i-1"
   ]
  },
  {
   "cell_type": "code",
   "execution_count": null,
   "id": "0a5f0a10-4262-4613-8590-ac62509b13d2",
   "metadata": {},
   "outputs": [],
   "source": []
  }
 ],
 "metadata": {
  "kernelspec": {
   "display_name": "Python 3 (ipykernel)",
   "language": "python",
   "name": "python3"
  },
  "language_info": {
   "codemirror_mode": {
    "name": "ipython",
    "version": 3
   },
   "file_extension": ".py",
   "mimetype": "text/x-python",
   "name": "python",
   "nbconvert_exporter": "python",
   "pygments_lexer": "ipython3",
   "version": "3.10.8"
  }
 },
 "nbformat": 4,
 "nbformat_minor": 5
}
